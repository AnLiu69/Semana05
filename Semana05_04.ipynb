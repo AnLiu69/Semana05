{
  "nbformat": 4,
  "nbformat_minor": 0,
  "metadata": {
    "colab": {
      "provenance": [],
      "authorship_tag": "ABX9TyPMW6xVEtZBFMPiDi3rUNlI",
      "include_colab_link": true
    },
    "kernelspec": {
      "name": "python3",
      "display_name": "Python 3"
    },
    "language_info": {
      "name": "python"
    }
  },
  "cells": [
    {
      "cell_type": "markdown",
      "metadata": {
        "id": "view-in-github",
        "colab_type": "text"
      },
      "source": [
        "<a href=\"https://colab.research.google.com/github/AnLiu69/Semana05/blob/main/Semana05_04.ipynb\" target=\"_parent\"><img src=\"https://colab.research.google.com/assets/colab-badge.svg\" alt=\"Open In Colab\"/></a>"
      ]
    },
    {
      "cell_type": "markdown",
      "source": [
        "# Semana 05\n",
        "1. Colecciones de datos\n",
        "2. Estructuras Decisivas y Estructura Repetitivas\n",
        "3. Funciones\n",
        "4. Clases y objetos\n",
        "\n",
        "\n",
        "4. Clases y objetos"
      ],
      "metadata": {
        "id": "PS0qwrfc3Zf_"
      }
    },
    {
      "cell_type": "code",
      "source": [
        "#Problema 01\n",
        "\n",
        "#Crear la siguiente clase:\n",
        "#   - Clase: Persona\n",
        "#   - Atributos: nombre, apellido, fecha_nacimiento, dni"
      ],
      "metadata": {
        "id": "zH5wTniU3dFg"
      },
      "execution_count": null,
      "outputs": []
    },
    {
      "cell_type": "code",
      "source": [
        "class Persona:\n",
        "  nombre = \"\"\n",
        "  apellidos = \"\"\n",
        "  dni = \"\"\n",
        "  talla = \"\""
      ],
      "metadata": {
        "id": "iif3XSSb4nqh"
      },
      "execution_count": 2,
      "outputs": []
    },
    {
      "cell_type": "code",
      "source": [
        "#creacion del objeto persona1\n",
        "persona1 = Persona()"
      ],
      "metadata": {
        "id": "REA5Wl-w4zZB"
      },
      "execution_count": 3,
      "outputs": []
    },
    {
      "cell_type": "code",
      "source": [
        "#Asignados valores al objeto\n",
        "persona1.nombre = \"Dharma\"\n",
        "persona1.apellidos = \"Bonifacio Toledo\"\n",
        "persona1.dni = \"12345678\"\n",
        "persona1.talla = 1.68"
      ],
      "metadata": {
        "id": "M9bVjNzD3q34"
      },
      "execution_count": 7,
      "outputs": []
    },
    {
      "cell_type": "code",
      "source": [
        "#Para mostrar valores del objeto:\n",
        "print(\"persona1\")\n",
        "print(f\"Nombre: {persona1.nombre}\")\n",
        "print(f\"Apellidos: {persona1.apellidos}\")\n",
        "print(f\"dni: {persona1.dni}\")\n",
        "print(f\"talla: {persona1.talla}\")"
      ],
      "metadata": {
        "colab": {
          "base_uri": "https://localhost:8080/"
        },
        "id": "VJTQFT0C4PbY",
        "outputId": "5e473d5a-9860-426a-d276-2bbbee9f0dba"
      },
      "execution_count": 8,
      "outputs": [
        {
          "output_type": "stream",
          "name": "stdout",
          "text": [
            "persona1\n",
            "Nombre: Dharma\n",
            "Apellidos: Bonifacio Toledo\n",
            "dni: 12345678\n",
            "talla: 1.68\n"
          ]
        }
      ]
    },
    {
      "cell_type": "code",
      "source": [
        "#Para utilizar constructores utilizamos: __init__\n",
        "#¿Qué es constructor?\n",
        "#- Es un método\n",
        "#- Sirve para inicializar valores a una clase"
      ],
      "metadata": {
        "id": "rtKvmDZA5epx"
      },
      "execution_count": 9,
      "outputs": []
    },
    {
      "cell_type": "code",
      "source": [
        "#Problema 02:"
      ],
      "metadata": {
        "id": "TdkOkPfp6Ldx"
      },
      "execution_count": 10,
      "outputs": []
    },
    {
      "cell_type": "code",
      "source": [
        "#Crear la siguiente clase y uilizar constructores:\n",
        "#- Clase: Curso\n",
        "#- Atributos: Código, Nombre, horas, créditos,"
      ],
      "metadata": {
        "id": "9yIU81n16PAx"
      },
      "execution_count": 11,
      "outputs": []
    },
    {
      "cell_type": "code",
      "source": [
        "#Solución:\n",
        "class curso:\n",
        "  def __init__(self, codigo, nombre, horas, creditos):\n",
        "    self.codigo = codigo\n",
        "    self.nombre = nombre\n",
        "    self.horas = horas\n",
        "    self.creditos = creditos\n",
        "  def mostrar_datos_cursos(self):\n",
        "    print(f\"Curso: {self.nombre}\")\n",
        "    print(f\"Código: {self.codigo}\")\n",
        "    print(f\"Horas: {self.horas}\")\n",
        "    print(f\"Créditos: {self.creditos}\")"
      ],
      "metadata": {
        "id": "AzOnVj0L6d1x"
      },
      "execution_count": 12,
      "outputs": []
    },
    {
      "cell_type": "code",
      "source": [
        "#Creamos el objeto curso1 y le mandamos parámetros\n",
        "curso1 = curso(\"C0501\", \"LP3\", 6, 3)"
      ],
      "metadata": {
        "id": "iFjLzllz7WrK"
      },
      "execution_count": 13,
      "outputs": []
    },
    {
      "cell_type": "code",
      "source": [
        "#Mostramos los datos completos del curso, ejecutando el método mostrar_datos_cursos\n",
        "curso1.mostrar_datos_cursos();"
      ],
      "metadata": {
        "colab": {
          "base_uri": "https://localhost:8080/"
        },
        "id": "oFozRlZI7hlD",
        "outputId": "982f5063-d44d-48b8-bbe8-3ff1face0ad3"
      },
      "execution_count": 15,
      "outputs": [
        {
          "output_type": "stream",
          "name": "stdout",
          "text": [
            "Curso: LP3\n",
            "Código: C0501\n",
            "Horas: 6\n",
            "Créditos: 3\n"
          ]
        }
      ]
    },
    {
      "cell_type": "code",
      "source": [],
      "metadata": {
        "id": "8nw25q-g7qmz"
      },
      "execution_count": null,
      "outputs": []
    }
  ]
}