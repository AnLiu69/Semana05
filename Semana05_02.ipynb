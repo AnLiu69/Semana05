{
  "nbformat": 4,
  "nbformat_minor": 0,
  "metadata": {
    "colab": {
      "provenance": [],
      "authorship_tag": "ABX9TyOmXzl7lX4EKRO1Ifh1lHAq",
      "include_colab_link": true
    },
    "kernelspec": {
      "name": "python3",
      "display_name": "Python 3"
    },
    "language_info": {
      "name": "python"
    }
  },
  "cells": [
    {
      "cell_type": "markdown",
      "metadata": {
        "id": "view-in-github",
        "colab_type": "text"
      },
      "source": [
        "<a href=\"https://colab.research.google.com/github/AnLiu69/Semana05/blob/main/Semana05_02.ipynb\" target=\"_parent\"><img src=\"https://colab.research.google.com/assets/colab-badge.svg\" alt=\"Open In Colab\"/></a>"
      ]
    },
    {
      "cell_type": "markdown",
      "source": [
        "# Semana 05\n",
        "1. Colecciones de datos\n",
        "2. Estructuras Decisivas y Estructura Repetitivas\n",
        "3. Clases y objetos\n",
        "4. Funciones\n",
        "\n",
        "2. Estructuras Decisivas y Estructura Repetitivas\n"
      ],
      "metadata": {
        "id": "JCWY8R1_iq3d"
      }
    },
    {
      "cell_type": "code",
      "source": [
        "#2.1 Estructuras Decisivas (if, elif, else)\n",
        "#if\n",
        "#Problema: Dado el precio de 3 productos ingresados por teclado,\n",
        "#aplicar un descuento del 10% si la venta es mayor o igual a 1000\n",
        ""
      ],
      "metadata": {
        "id": "PpaDuD8tixCm"
      },
      "execution_count": 1,
      "outputs": []
    },
    {
      "cell_type": "code",
      "source": [
        "#Solucio\n",
        "P1 = float(input(\"Producto 1: \"))\n",
        "P2 = float(input(\"Producto 2: \"))\n",
        "P3 = float(input(\"Producto 3: \"))\n",
        "total = P1 + P2 + P3\n",
        "if total>=1000:\n",
        "  total *= 0.9\n",
        "print(f\"El total a pagar es: {total}\")"
      ],
      "metadata": {
        "colab": {
          "base_uri": "https://localhost:8080/"
        },
        "id": "1g4HB3SJjFiQ",
        "outputId": "b4073a8d-7a85-4a44-a064-4205e0940f0e"
      },
      "execution_count": 4,
      "outputs": [
        {
          "output_type": "stream",
          "name": "stdout",
          "text": [
            "Producto 1: 1000\n",
            "Producto 2: 2000\n",
            "Producto 3: 1000\n",
            "El total a pagar es: 3600.0\n"
          ]
        }
      ]
    },
    {
      "cell_type": "code",
      "source": [
        "#Problema 02\n",
        "#DAdo el importe total de ventas realizadas por un trabajador (ingresado por\n",
        "#Categoria: A-> [0, 1000]\n",
        "#Categoria: B-> <1000, 2000]\n",
        "#Categoria: C-> <2000, 5000]\n",
        "#Categoria: D-> <5000, Más]\n",
        "#Tiempo asignado: 12 min"
      ],
      "metadata": {
        "id": "Y8VJRpa8jejZ"
      },
      "execution_count": 5,
      "outputs": []
    },
    {
      "cell_type": "code",
      "source": [
        "#Solución\n",
        "ventas = float(input(\"Importe de ventas realizadas: \"))\n",
        "if ventas < 0:\n",
        "  print(\"Datos erroneos\")\n",
        "else:\n",
        "    if ventas <= 1000:\n",
        "      print(\"Categoria A\")\n",
        "    else:\n",
        "        if ventas <= 2000:\n",
        "          print(\"Categoria B\")\n",
        "        else:\n",
        "          if ventas <= 5000:\n",
        "            print(\"Categoria C\")\n",
        "          else:\n",
        "              if ventas >= 5000:\n",
        "                print(\"Categoria D\")\n"
      ],
      "metadata": {
        "colab": {
          "base_uri": "https://localhost:8080/"
        },
        "id": "Gn-EJxuLmnGU",
        "outputId": "52ee594e-a685-4bac-8536-d9fa090fb70c"
      },
      "execution_count": 8,
      "outputs": [
        {
          "output_type": "stream",
          "name": "stdout",
          "text": [
            "Importe de ventas realizadas: 4000\n",
            "Categoria C\n"
          ]
        }
      ]
    },
    {
      "cell_type": "code",
      "source": [
        "ventas = float(input(\"Importe de ventas realizadas: \"))\n",
        "if ventas < 0:\n",
        "  print(\"Datos erroneos\")\n",
        "elif ventas <= 1000:\n",
        "  print(\"Categoria A\")\n",
        "elif ventas <= 2000:\n",
        "  print(\"Categoria B\")\n",
        "elif ventas <= 5000:\n",
        "  print(\"Categoria C\")\n",
        "elif ventas > 5000:\n",
        "  print(\"Categoria D\")\n"
      ],
      "metadata": {
        "colab": {
          "base_uri": "https://localhost:8080/"
        },
        "id": "61qs-bPBndh-",
        "outputId": "49af8e4c-9eea-4b42-8b0e-d9c1733d28e2"
      },
      "execution_count": 10,
      "outputs": [
        {
          "output_type": "stream",
          "name": "stdout",
          "text": [
            "Importe de ventas realizadas: 5200\n",
            "Categoria D\n"
          ]
        }
      ]
    },
    {
      "cell_type": "code",
      "source": [
        "#2.2 Esrtucturas repetitivas\n",
        "#for"
      ],
      "metadata": {
        "id": "doMB6epYoSC3"
      },
      "execution_count": 11,
      "outputs": []
    },
    {
      "cell_type": "code",
      "source": [
        "#Problema 01:\n",
        "#Mostrar los elementos de una lista utilizando for"
      ],
      "metadata": {
        "id": "M8Rgn80jqRPN"
      },
      "execution_count": 12,
      "outputs": []
    },
    {
      "cell_type": "code",
      "source": [
        "#Solución\n",
        "aula = ['Barrios', 'Sevillano', 'Zuñiga', 'Paye']\n",
        "#Por cada alumno que está en la lista, imprimir alumno\n",
        "for alumno in aula:\n",
        "  print(alumno)"
      ],
      "metadata": {
        "colab": {
          "base_uri": "https://localhost:8080/"
        },
        "id": "kU9jBM2pqX98",
        "outputId": "0b96a6de-b287-4919-b558-bb2389f45972"
      },
      "execution_count": 13,
      "outputs": [
        {
          "output_type": "stream",
          "name": "stdout",
          "text": [
            "Barrios\n",
            "Sevillano\n",
            "Zuñiga\n",
            "Paye\n"
          ]
        }
      ]
    },
    {
      "cell_type": "code",
      "source": [
        "#Problema 02:\n",
        "#Dado una cadena ingresado por teclado,\n",
        "#mostrar cada una de sus caracteres, utilizando la estructura for"
      ],
      "metadata": {
        "id": "4SuqirfhqoqN"
      },
      "execution_count": 14,
      "outputs": []
    },
    {
      "cell_type": "code",
      "source": [
        "#solución\n",
        "cadena = input(\"Ingrese Cadena:\")\n",
        "for caracter in cadena:\n",
        "  print(caracter)"
      ],
      "metadata": {
        "colab": {
          "base_uri": "https://localhost:8080/"
        },
        "id": "egh97J-9qyDN",
        "outputId": "805ccafa-ec48-47a8-c4de-f3fd8e19bd6c"
      },
      "execution_count": 16,
      "outputs": [
        {
          "output_type": "stream",
          "name": "stdout",
          "text": [
            "Ingrese Cadena:Pepito\n",
            "P\n",
            "e\n",
            "p\n",
            "i\n",
            "t\n",
            "o\n"
          ]
        }
      ]
    },
    {
      "cell_type": "code",
      "source": [
        "#Para generar rangos de números utilizamos range()\n",
        "range(5)\n",
        "#[0,5>"
      ],
      "metadata": {
        "colab": {
          "base_uri": "https://localhost:8080/"
        },
        "id": "zvHv599zq83e",
        "outputId": "ba4d6694-f9e5-4fe0-eebf-2f4c531a98f9"
      },
      "execution_count": 17,
      "outputs": [
        {
          "output_type": "execute_result",
          "data": {
            "text/plain": [
              "range(0, 5)"
            ]
          },
          "metadata": {},
          "execution_count": 17
        }
      ]
    },
    {
      "cell_type": "code",
      "source": [
        "#Problema 02\n",
        "#Imprimir los números de 0 a 10, utilizando for\n",
        "for numero in range(11):\n",
        "  print (numero)"
      ],
      "metadata": {
        "colab": {
          "base_uri": "https://localhost:8080/"
        },
        "id": "RnKWNQG8r70Q",
        "outputId": "c80b6627-b66f-4b27-e103-e538879cdca8"
      },
      "execution_count": 18,
      "outputs": [
        {
          "output_type": "stream",
          "name": "stdout",
          "text": [
            "0\n",
            "1\n",
            "2\n",
            "3\n",
            "4\n",
            "5\n",
            "6\n",
            "7\n",
            "8\n",
            "9\n",
            "10\n"
          ]
        }
      ]
    },
    {
      "cell_type": "code",
      "source": [
        "#Problema 03\n",
        "#Imprimir los números de 0 a 10, utilizando for\n",
        "for numero in range(5, 11):\n",
        "  print (numero)"
      ],
      "metadata": {
        "colab": {
          "base_uri": "https://localhost:8080/"
        },
        "id": "T_jF7hV1sPnh",
        "outputId": "910af998-19fc-4c59-aa52-ba977660dadb"
      },
      "execution_count": 23,
      "outputs": [
        {
          "output_type": "stream",
          "name": "stdout",
          "text": [
            "5\n",
            "6\n",
            "7\n",
            "8\n",
            "9\n",
            "10\n"
          ]
        }
      ]
    },
    {
      "cell_type": "code",
      "source": [
        "#Problema 04\n",
        "#Imprimir los números de 10 a 20, utilizando for\n",
        "for numero in range(10, 22, 2):\n",
        "  print(numero)"
      ],
      "metadata": {
        "colab": {
          "base_uri": "https://localhost:8080/"
        },
        "id": "cGg9AATuskMx",
        "outputId": "db38c62d-9415-4e89-bb2e-1df48f21695e"
      },
      "execution_count": 24,
      "outputs": [
        {
          "output_type": "stream",
          "name": "stdout",
          "text": [
            "10\n",
            "12\n",
            "14\n",
            "16\n",
            "18\n",
            "20\n"
          ]
        }
      ]
    },
    {
      "cell_type": "code",
      "source": [
        "#While\n",
        "#Permite ejecutar un conjunto de acciones hasta que no se cumpla la condición\n",
        "numero = 1\n",
        "fin = 10\n",
        "while numero <= fin:\n",
        "  print(numero)\n",
        "  numero +=1"
      ],
      "metadata": {
        "colab": {
          "base_uri": "https://localhost:8080/"
        },
        "id": "Qx8LOFb2tCqC",
        "outputId": "5b45c8f3-a35f-4ef4-e263-496fa7b78b23"
      },
      "execution_count": 25,
      "outputs": [
        {
          "output_type": "stream",
          "name": "stdout",
          "text": [
            "1\n",
            "2\n",
            "3\n",
            "4\n",
            "5\n",
            "6\n",
            "7\n",
            "8\n",
            "9\n",
            "10\n"
          ]
        }
      ]
    },
    {
      "cell_type": "code",
      "source": [],
      "metadata": {
        "id": "TYiRpJPytbay"
      },
      "execution_count": null,
      "outputs": []
    }
  ]
}