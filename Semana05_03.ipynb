{
  "nbformat": 4,
  "nbformat_minor": 0,
  "metadata": {
    "colab": {
      "provenance": [],
      "authorship_tag": "ABX9TyOn8Gm801n4l4zfzgXrZttC",
      "include_colab_link": true
    },
    "kernelspec": {
      "name": "python3",
      "display_name": "Python 3"
    },
    "language_info": {
      "name": "python"
    }
  },
  "cells": [
    {
      "cell_type": "markdown",
      "metadata": {
        "id": "view-in-github",
        "colab_type": "text"
      },
      "source": [
        "<a href=\"https://colab.research.google.com/github/AnLiu69/Semana05/blob/main/Semana05_03.ipynb\" target=\"_parent\"><img src=\"https://colab.research.google.com/assets/colab-badge.svg\" alt=\"Open In Colab\"/></a>"
      ]
    },
    {
      "cell_type": "markdown",
      "source": [
        "# Semana 05\n",
        "1. Colecciones de datos\n",
        "2. Estructuras Decisivas y Estructura Repetitivas\n",
        "3. Funciones\n",
        "4. Clases y objetos\n",
        "\n",
        "\n",
        "3. Funciones"
      ],
      "metadata": {
        "id": "49QWAXwPxiCx"
      }
    },
    {
      "cell_type": "code",
      "source": [
        "#Tambien conocidos como métodos\n",
        "#Metodos vacios\n",
        "#Metodos que reciben valores\n",
        "#Metodos que devuelven un valor\n",
        "#Metodos que reciben y devuelven valores"
      ],
      "metadata": {
        "id": "y26c0GmexrAJ"
      },
      "execution_count": 1,
      "outputs": []
    },
    {
      "cell_type": "code",
      "source": [
        "#3.1 Metodos Vacios\n",
        "#Explicacion: No recibe valores (Parámetros)"
      ],
      "metadata": {
        "id": "nwsi_xzlzL7T"
      },
      "execution_count": 2,
      "outputs": []
    },
    {
      "cell_type": "code",
      "source": [
        "def saludo():\n",
        "  print(\"Bienvenidos al curso de LP3\")\n",
        "  print(\"**** Python ****\")"
      ],
      "metadata": {
        "id": "yWUcT_hizRu7"
      },
      "execution_count": 3,
      "outputs": []
    },
    {
      "cell_type": "code",
      "source": [
        "saludo()"
      ],
      "metadata": {
        "colab": {
          "base_uri": "https://localhost:8080/"
        },
        "id": "QiRCx8Ffzf2M",
        "outputId": "0a60552c-d96b-4270-e691-6f768e0db90e"
      },
      "execution_count": 4,
      "outputs": [
        {
          "output_type": "stream",
          "name": "stdout",
          "text": [
            "Bienvenidos al curso de LP3\n",
            "**** Python ****\n"
          ]
        }
      ]
    },
    {
      "cell_type": "code",
      "source": [
        "#3.2 Métodos que reciben valores"
      ],
      "metadata": {
        "id": "fK6qY1Z8zg-L"
      },
      "execution_count": 5,
      "outputs": []
    },
    {
      "cell_type": "code",
      "source": [
        "def factorial(numero):\n",
        "  fac = 1\n",
        "  for i in range(1, numero+1):\n",
        "    fac *=i #fac = fac* i\n",
        "  print(f\"El factorial es: {fac}\")\n",
        "numero = int(input(\"Ingrese Numero: \"))\n",
        "factorial(numero)"
      ],
      "metadata": {
        "colab": {
          "base_uri": "https://localhost:8080/"
        },
        "id": "77eb190Wz4Yc",
        "outputId": "507d058e-d966-4749-9d7c-bc4dd06def79"
      },
      "execution_count": 14,
      "outputs": [
        {
          "output_type": "stream",
          "name": "stdout",
          "text": [
            "Ingrese Numero: 6\n",
            "El factorial es: 720\n"
          ]
        }
      ]
    },
    {
      "cell_type": "code",
      "source": [
        "#3.3 Métodos que devuelven valores\n",
        "def saludo2():\n",
        "  mensaje = \"Bienvenidos a LP3\"\n",
        "  return mensaje\n",
        "print(saludo2())"
      ],
      "metadata": {
        "colab": {
          "base_uri": "https://localhost:8080/"
        },
        "id": "GfQlgtg40aIM",
        "outputId": "6035f6b8-8173-44db-a549-b6ddb01eb2d3"
      },
      "execution_count": 15,
      "outputs": [
        {
          "output_type": "stream",
          "name": "stdout",
          "text": [
            "Bienvenidos a LP3\n"
          ]
        }
      ]
    },
    {
      "cell_type": "code",
      "source": [
        "#3.4 Métodos que reciben y devulven valores"
      ],
      "metadata": {
        "id": "2pShPY082B7u"
      },
      "execution_count": 16,
      "outputs": []
    },
    {
      "cell_type": "code",
      "source": [
        "def factorial2(numero):\n",
        "  fac = 1\n",
        "  for i in range(1,numero+1):\n",
        "    fac *=i #fac = fac*i\n",
        "  return fac\n",
        "numero = int(input(\"Numero: \"))\n",
        "print(f\"El factorial de {numero} es {factorial2(numero)}\")"
      ],
      "metadata": {
        "colab": {
          "base_uri": "https://localhost:8080/"
        },
        "id": "A_v_FRke2Gz-",
        "outputId": "2c00d53a-4d94-4145-97ab-5d029de75bc5"
      },
      "execution_count": 17,
      "outputs": [
        {
          "output_type": "stream",
          "name": "stdout",
          "text": [
            "Numero: 8\n",
            "El factorial de 8 es 40320\n"
          ]
        }
      ]
    },
    {
      "cell_type": "code",
      "source": [],
      "metadata": {
        "id": "meDitd2w2muP"
      },
      "execution_count": null,
      "outputs": []
    }
  ]
}